{
 "cells": [
  {
   "cell_type": "code",
   "execution_count": 1,
   "id": "6ee283a0",
   "metadata": {},
   "outputs": [],
   "source": [
    "import pandas as pd"
   ]
  },
  {
   "cell_type": "code",
   "execution_count": 2,
   "id": "3d31dd5f",
   "metadata": {},
   "outputs": [],
   "source": [
    "products=pd.read_csv('products.csv')\n",
    "inventory=pd.read_csv('inventory.csv')  \n",
    "sales=pd.read_csv('sales.csv')\n",
    "stores=pd.read_csv('stores.csv')"
   ]
  },
  {
   "cell_type": "markdown",
   "id": "32679913",
   "metadata": {},
   "source": [
    "cleaning products table\n"
   ]
  },
  {
   "cell_type": "code",
   "execution_count": 10,
   "id": "20791326",
   "metadata": {},
   "outputs": [
    {
     "data": {
      "text/plain": [
       "0"
      ]
     },
     "execution_count": 10,
     "metadata": {},
     "output_type": "execute_result"
    }
   ],
   "source": [
    "products.duplicated().sum()"
   ]
  },
  {
   "cell_type": "code",
   "execution_count": 19,
   "id": "dd27acf6",
   "metadata": {},
   "outputs": [
    {
     "data": {
      "text/plain": [
       "0      $9.99 \n",
       "1      $9.99 \n",
       "2      $1.99 \n",
       "3      $9.99 \n",
       "4      $7.99 \n",
       "5      $6.99 \n",
       "6     $11.99 \n",
       "7      $3.99 \n",
       "8      $9.99 \n",
       "9     $10.99 \n",
       "10    $10.99 \n",
       "11     $8.99 \n",
       "12    $14.99 \n",
       "13     $5.99 \n",
       "14     $3.99 \n",
       "15     $2.99 \n",
       "16    $13.99 \n",
       "17    $34.99 \n",
       "18    $13.99 \n",
       "19     $8.99 \n",
       "20     $6.99 \n",
       "21    $13.99 \n",
       "22     $4.99 \n",
       "23    $14.99 \n",
       "24     $1.99 \n",
       "25    $20.99 \n",
       "26     $3.99 \n",
       "27     $3.99 \n",
       "28     $8.99 \n",
       "29    $17.99 \n",
       "30     $7.99 \n",
       "31    $11.99 \n",
       "32    $10.99 \n",
       "33    $20.99 \n",
       "34     $3.99 \n",
       "Name: Product_Cost, dtype: object"
      ]
     },
     "execution_count": 19,
     "metadata": {},
     "output_type": "execute_result"
    }
   ],
   "source": [
    "products['Product_Cost']"
   ]
  },
  {
   "cell_type": "code",
   "execution_count": 23,
   "id": "eabe26c6",
   "metadata": {},
   "outputs": [
    {
     "name": "stderr",
     "output_type": "stream",
     "text": [
      "<>:1: SyntaxWarning: invalid escape sequence '\\$'\n",
      "<>:1: SyntaxWarning: invalid escape sequence '\\$'\n",
      "C:\\Users\\hp\\AppData\\Local\\Temp\\ipykernel_19400\\1600985710.py:1: SyntaxWarning: invalid escape sequence '\\$'\n",
      "  products['Product_Cost']=products['Product_Cost'].replace({'[\\$,]':''}, regex=True).astype(float)\n"
     ]
    }
   ],
   "source": [
    "products['Product_Cost']=products['Product_Cost'].replace({'[\\$,]':''}, regex=True).astype(float)"
   ]
  },
  {
   "cell_type": "code",
   "execution_count": 25,
   "id": "05304613",
   "metadata": {},
   "outputs": [
    {
     "data": {
      "text/plain": [
       "dtype('float64')"
      ]
     },
     "execution_count": 25,
     "metadata": {},
     "output_type": "execute_result"
    }
   ],
   "source": [
    "products['Product_Cost'].dtype"
   ]
  },
  {
   "cell_type": "code",
   "execution_count": 9,
   "id": "ff6c829a",
   "metadata": {},
   "outputs": [
    {
     "data": {
      "text/plain": [
       "Product_ID          0\n",
       "Product_Name        0\n",
       "Product_Category    0\n",
       "Product_Cost        0\n",
       "Product_Price       0\n",
       "dtype: int64"
      ]
     },
     "execution_count": 9,
     "metadata": {},
     "output_type": "execute_result"
    }
   ],
   "source": [
    "products.isnull().sum()\n"
   ]
  },
  {
   "cell_type": "code",
   "execution_count": 30,
   "id": "d8f1ce75",
   "metadata": {},
   "outputs": [
    {
     "name": "stderr",
     "output_type": "stream",
     "text": [
      "<>:1: SyntaxWarning: invalid escape sequence '\\$'\n",
      "<>:1: SyntaxWarning: invalid escape sequence '\\$'\n",
      "C:\\Users\\hp\\AppData\\Local\\Temp\\ipykernel_19400\\2189127114.py:1: SyntaxWarning: invalid escape sequence '\\$'\n",
      "  products['Product_Price']=products['Product_Price'].replace({'[\\$,]':' '},regex=True).astype(float)\n"
     ]
    }
   ],
   "source": [
    "products['Product_Price']=products['Product_Price'].replace({'[\\$,]':' '},regex=True).astype(float)"
   ]
  },
  {
   "cell_type": "code",
   "execution_count": 34,
   "id": "30ccec69",
   "metadata": {},
   "outputs": [
    {
     "name": "stdout",
     "output_type": "stream",
     "text": [
      "<class 'pandas.core.frame.DataFrame'>\n",
      "RangeIndex: 35 entries, 0 to 34\n",
      "Data columns (total 5 columns):\n",
      " #   Column            Non-Null Count  Dtype  \n",
      "---  ------            --------------  -----  \n",
      " 0   Product_ID        35 non-null     int64  \n",
      " 1   Product_Name      35 non-null     object \n",
      " 2   Product_Category  35 non-null     object \n",
      " 3   Product_Cost      35 non-null     float64\n",
      " 4   Product_Price     35 non-null     float64\n",
      "dtypes: float64(2), int64(1), object(2)\n",
      "memory usage: 1.5+ KB\n"
     ]
    }
   ],
   "source": [
    "products.info()"
   ]
  },
  {
   "cell_type": "code",
   "execution_count": 35,
   "id": "46337746",
   "metadata": {},
   "outputs": [],
   "source": [
    "products.to_csv('products_cleaned.csv', index=False)\n"
   ]
  },
  {
   "cell_type": "markdown",
   "id": "6cf415bf",
   "metadata": {},
   "source": [
    "cleaning inventory "
   ]
  },
  {
   "cell_type": "code",
   "execution_count": null,
   "id": "c9eb93a5",
   "metadata": {},
   "outputs": [],
   "source": []
  }
 ],
 "metadata": {
  "kernelspec": {
   "display_name": "base",
   "language": "python",
   "name": "python3"
  },
  "language_info": {
   "codemirror_mode": {
    "name": "ipython",
    "version": 3
   },
   "file_extension": ".py",
   "mimetype": "text/x-python",
   "name": "python",
   "nbconvert_exporter": "python",
   "pygments_lexer": "ipython3",
   "version": "3.12.7"
  }
 },
 "nbformat": 4,
 "nbformat_minor": 5
}
